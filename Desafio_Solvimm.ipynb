{
  "nbformat": 4,
  "nbformat_minor": 0,
  "metadata": {
    "colab": {
      "name": "Desafio Solvimm.ipynb",
      "provenance": [],
      "collapsed_sections": []
    },
    "kernelspec": {
      "name": "python3",
      "display_name": "Python 3"
    },
    "language_info": {
      "name": "python"
    }
  },
  "cells": [
    {
      "cell_type": "markdown",
      "metadata": {
        "id": "cbGXz_TVvr0n"
      },
      "source": [
        "## Essa é minha solução para o desafio técnico do processo seleção de estágio da Solvimm.\n",
        "\n",
        "### Nome: Raphael Balmant Rodrigues Chaves\n",
        "\n",
        "\n",
        "### [Link para o desafio](https://drive.google.com/file/d/1dYdoacGbVmQ8JyPjpxCkCSuR3FGTDB3n/view)\n",
        "\n",
        "#### Arquivos necessários: (não será necessário fazer download manual deles, o programa fará isso!)\n",
        "\n",
        "*   [movies.csv](https://drive.google.com/file/d/1gLsCjaMrL91ECdThq58cZAzB9tPxG18g/view) (id: 1gLsCjaMrL91ECdThq58cZAzB9tPxG18g)\n",
        "*   [customers_rating.csv](https://drive.google.com/file/d/1C_T1w8fc7Oa8MeTo4LMTEcv90IfEOS-6/view) (id: 1C_T1w8fc7Oa8MeTo4LMTEcv90IfEOS-6)\n",
        "\n",
        "#### Documentação utilizada:\n",
        "\n",
        "*   [wkentaro/gdown: Download a large file from Google Drive  (curl/wget fails because of the security notice).](https://github.com/wkentaro/gdown) (para fazer download dos arquivos necessários)\n",
        "\n",
        "*   [Comparison with SQL &#8212; pandas 1.3.1 documentation](https://pandas.pydata.org/docs/getting_started/comparison/comparison_with_sql.html) (esse link me ajudou **bastante** a entender como o pandas funciona, a partir de comparações com SQL)\n",
        "\n",
        "*   [pandas.read_csv &#8212; pandas 1.3.1 documentation](https://pandas.pydata.org/docs/reference/api/pandas.read_csv.html) (para entender como gerar DataFrame a partir dos arquivos)\n",
        "\n",
        "*   [pandas.DataFrame.groupby &#8212; pandas 1.3.1 documentation](https://pandas.pydata.org/pandas-docs/stable/reference/api/pandas.DataFrame.groupby.html) (utilizei para entender melhor como a função groupby funciona)\n",
        "\n",
        "*   [pandas.core.groupby.GroupBy.size &#8212; pandas 1.3.1 documentation](https://pandas.pydata.org/docs/reference/api/pandas.core.groupby.GroupBy.size.html) (para entender o size depois do groupby)\n",
        "\n",
        "*   [pandas.DataFrame.nsmallest &#8212; pandas 1.3.1 documentation](https://pandas.pydata.org/docs/reference/api/pandas.DataFrame.nsmallest.html) (para conseguir pegar menores valores em entradas em DataFrame, baseado em alguma coluna)\n",
        "\n",
        "*   [pandas.DataFrame.nlargest &#8212; pandas 1.3.1 documentation](https://pandas.pydata.org/docs/reference/api/pandas.DataFrame.nlargest.html) (utilidade semelhante ao link acima, mas para maiores valores)\n",
        "\n",
        "*   [pandas.DataFrame.reset_index &#8212; pandas 1.3.1 documentation](https://pandas.pydata.org/pandas-docs/stable/reference/api/pandas.DataFrame.reset_index.html) (utilizei para adicionar coluna de contagem depois de agrupar um DataFrame por alguma coluna)\n",
        "\n",
        "#### Formatos:\n",
        "\n",
        "> movies.csv - Movie_Id;(Title, Year) (formato atual)\n",
        "\n",
        "> movies.csv - Movie_Id;Title;Year **(formato desejado)**\n",
        "\n",
        "> customers_rating.csv - Cust_Id;Rating;Date;Movie_Id\n",
        "\n",
        "### Sobre o dataset acima, somos perguntados:\n",
        "\n",
        "1.   Quantos filmes estão disponíveis no dataset?\n",
        "2.   Qual é o nome dos 5 filmes com melhor média de avaliação?\n",
        "3.   Quais os 5 anos com menos lançamentos de filmes?\n",
        "4.   Quantos filmes que possuem avaliação maior ou igual a 4.7, considerando apenas os filmes avaliados na última data de avaliação do dataset?\n",
        "5.   Dos filmes encontrados na questão anterior, quais são os 10 filmes com as piores notas e quais as notas?\n",
        "6.   Quais os id's dos 5 customer que mais avaliaram filmes e quantas avaliações cada um fez?\n",
        "\n",
        "Bom, antes de sequer começar a pensar nas perguntas, precisamos primeiro obter os arquivos do dataset. Para isso, vamos aqui utilizar a biblioteca gdown, assim vamos conseguir os arquivos diretamente sem ter que fazer upload para o nosso próprio google drive. Para garantir que o gdown (e o numpy e pandas) estão instalados, por favor, rode a seguinte caixa de código:\n",
        "\n",
        "\n",
        "\n"
      ]
    },
    {
      "cell_type": "code",
      "metadata": {
        "colab": {
          "base_uri": "https://localhost:8080/"
        },
        "id": "f7C-7HAMxbOA",
        "outputId": "7018d67e-9050-47c2-ef2a-9ae94f78bf1d"
      },
      "source": [
        "!pip install gdown\n",
        "!pip install numpy\n",
        "!pip install pandas"
      ],
      "execution_count": 106,
      "outputs": [
        {
          "output_type": "stream",
          "text": [
            "Requirement already satisfied: gdown in /usr/local/lib/python3.7/dist-packages (3.6.4)\n",
            "Requirement already satisfied: requests in /usr/local/lib/python3.7/dist-packages (from gdown) (2.23.0)\n",
            "Requirement already satisfied: six in /usr/local/lib/python3.7/dist-packages (from gdown) (1.15.0)\n",
            "Requirement already satisfied: tqdm in /usr/local/lib/python3.7/dist-packages (from gdown) (4.41.1)\n",
            "Requirement already satisfied: chardet<4,>=3.0.2 in /usr/local/lib/python3.7/dist-packages (from requests->gdown) (3.0.4)\n",
            "Requirement already satisfied: urllib3!=1.25.0,!=1.25.1,<1.26,>=1.21.1 in /usr/local/lib/python3.7/dist-packages (from requests->gdown) (1.24.3)\n",
            "Requirement already satisfied: idna<3,>=2.5 in /usr/local/lib/python3.7/dist-packages (from requests->gdown) (2.10)\n",
            "Requirement already satisfied: certifi>=2017.4.17 in /usr/local/lib/python3.7/dist-packages (from requests->gdown) (2021.5.30)\n"
          ],
          "name": "stdout"
        }
      ]
    },
    {
      "cell_type": "markdown",
      "metadata": {
        "id": "qpPlcqmkAYGF"
      },
      "source": [
        "Agora com o gdown instalado (garantidamente), podemos obter os arquivos do dataset através dos IDs presentes nos links fornecidos no PDF do desafio. Dessa forma, para salvar o arquivo do google drive movies.csv, execute o seguinte comando: "
      ]
    },
    {
      "cell_type": "code",
      "metadata": {
        "colab": {
          "base_uri": "https://localhost:8080/"
        },
        "id": "i3aPn0x7YD8N",
        "outputId": "e0877d76-5c42-4843-8723-fd45b84b57fe"
      },
      "source": [
        "!gdown -O movies.csv --id 1gLsCjaMrL91ECdThq58cZAzB9tPxG18g "
      ],
      "execution_count": 107,
      "outputs": [
        {
          "output_type": "stream",
          "text": [
            "Downloading...\n",
            "From: https://drive.google.com/uc?id=1gLsCjaMrL91ECdThq58cZAzB9tPxG18g\n",
            "To: /content/movies.csv\n",
            "\r  0% 0.00/160k [00:00<?, ?B/s]\r100% 160k/160k [00:00<00:00, 44.1MB/s]\n"
          ],
          "name": "stdout"
        }
      ]
    },
    {
      "cell_type": "markdown",
      "metadata": {
        "id": "5l0YMAeHYaKL"
      },
      "source": [
        "E agora o arquivo customers_rating.csv o comando:"
      ]
    },
    {
      "cell_type": "code",
      "metadata": {
        "colab": {
          "base_uri": "https://localhost:8080/"
        },
        "id": "4dtfwYLvYp1W",
        "outputId": "01f1891e-8a74-43de-d94b-7fd40c46ed72"
      },
      "source": [
        "!gdown -O customers_rating.csv --id 1C_T1w8fc7Oa8MeTo4LMTEcv90IfEOS-6"
      ],
      "execution_count": 108,
      "outputs": [
        {
          "output_type": "stream",
          "text": [
            "Downloading...\n",
            "From: https://drive.google.com/uc?id=1C_T1w8fc7Oa8MeTo4LMTEcv90IfEOS-6\n",
            "To: /content/customers_rating.csv\n",
            "658MB [00:05, 129MB/s]\n"
          ],
          "name": "stdout"
        }
      ]
    },
    {
      "cell_type": "markdown",
      "metadata": {
        "id": "qvmSV7SMu6Z6"
      },
      "source": [
        "Temos os arquivos, mas note que o arquivo movies.csv tem um problema grave de formatação dos dados, eles estão no formato: [id];([título], [ano]) que não é ideal para carregarmos com o pandas ainda. Vamos então deixar o arquivo em um formato amigável para o pandas :)"
      ]
    },
    {
      "cell_type": "code",
      "metadata": {
        "id": "WLF_iAahvZJ3"
      },
      "source": [
        "# Vamos abrir o arquivo para obter seu conteúdo. (a função open faz isso pra gente)\n",
        "with open('movies.csv', 'r+') as fmovies:\n",
        "  content = fmovies.readlines()\n",
        "\n",
        "# Agora podemos operar o conteúdo do arquivo, e fazer as alterações necessárias.\n",
        "\n",
        "lines = []\n",
        "\n",
        "for line in content:\n",
        "  # Formato atual: [id];([titulo], [ano])\n",
        "  # Formato pretendido: [id];[titulo];[ano]\n",
        "\n",
        "  id = \"\"\n",
        "  title = \"\"\n",
        "  year = \"\"\n",
        "\n",
        "  # Flags para onde estamos na linha\n",
        "  id_ok = False\n",
        "  title_ok = False\n",
        "  year_ok = False\n",
        "\n",
        "  i = 0\n",
        "  while i < len(line):\n",
        "    if line[i] == ';':\n",
        "      id_ok = True\n",
        "      i = i + 2 # Pulamos o caractere '('\n",
        "      continue\n",
        "\n",
        "    if line[i] == ',' and line[i+1] == ' ' and line[i+2].isdigit():\n",
        "      title_ok = True\n",
        "      i = i + 2 # Pulamos o espaço (posição i+1)\n",
        "      continue\n",
        "\n",
        "    if line[i] == ')':\n",
        "      year_ok = True\n",
        "      break # Acabamos de ler os dados da linha.\n",
        "\n",
        "    if id_ok and title_ok:\n",
        "      year = year + line[i]\n",
        "    elif id_ok:\n",
        "      title = title + line[i]\n",
        "    else:\n",
        "      id = id + line[i]\n",
        "\n",
        "    i = i + 1\n",
        "\n",
        "  # Para a linha atual, temos os dados (id, title, year)\n",
        "  # Vamos agora colocar no formato desejado\n",
        "\n",
        "  line = id + ';' + title + ';' + year\n",
        "  lines.append(line)\n",
        "\n",
        "# Agora podemos salvar os dados processados de volta no arquivo. (opção 'w')\n",
        "with open('movies.csv', 'w') as fmovies:\n",
        "  for line in lines:\n",
        "    fmovies.write(\"%s\\n\" % line)\n",
        "\n"
      ],
      "execution_count": 109,
      "outputs": []
    },
    {
      "cell_type": "markdown",
      "metadata": {
        "id": "slLIrWCVZQwc"
      },
      "source": [
        "Agora que estamos em posse de todos os arquivos necessários, precisamos antes de tudo importar a biblioteca pandas, que iremos utilizar para analisar o dataset e sermos capazes de responder as perguntas, e vamos também importar a numpy, caso seja necessário utilizarmos. E podemos também carregar os dois arquivos CSV. A função read_csv do pandas é responsável por carregar o arquivo CSV (agora arquivo local) em memória no formato DataFrame do pandas."
      ]
    },
    {
      "cell_type": "code",
      "metadata": {
        "id": "X0ToHRsmZzwv"
      },
      "source": [
        "import pandas as pd\n",
        "import numpy as np\n",
        "\n",
        "# O arquivo movies.csv está com dados separados por ';', e não contém cabeçalho na primeira linha. (por isso, vamos inserior nomes para as nossas colunas)\n",
        "movies = pd.read_csv('movies.csv', delimiter=';', names=['Movie_Id', 'Title', 'Year'])\n",
        "\n",
        "# Já o arquivo customers_rating.csv está também com dados separaos por ';', mas contém cabeçalho na primeira linha.\n",
        "customers_rating = pd.read_csv('customers_rating.csv', delimiter=';')"
      ],
      "execution_count": 110,
      "outputs": []
    },
    {
      "cell_type": "markdown",
      "metadata": {
        "id": "ZXCW5Kg1jJV6"
      },
      "source": [
        "**1. Quantos filmes estão disponíveis no dataset?**\n",
        "\n",
        "Para descobrir quantos filmes temos no dataset, assumindo que existe consistência entre os dois arquivos, e também a pergunta é sobre os filmes **disponíveis**, então basta pegarmos a quantidade de linhas (entradas) em movies.csv."
      ]
    },
    {
      "cell_type": "code",
      "metadata": {
        "colab": {
          "base_uri": "https://localhost:8080/"
        },
        "id": "izUrX3qQjgiw",
        "outputId": "1ca8035f-459f-4c00-c8c6-be2e8d1fc07b"
      },
      "source": [
        "print(\"1. Temos %d filmes disponíveis no dataset.\" % (len(movies.index)))"
      ],
      "execution_count": 111,
      "outputs": [
        {
          "output_type": "stream",
          "text": [
            "1. Temos 4499 filmes disponíveis no dataset.\n"
          ],
          "name": "stdout"
        }
      ]
    },
    {
      "cell_type": "markdown",
      "metadata": {
        "id": "OajXZQGSkH4w"
      },
      "source": [
        "**2. Qual é o nome dos 5 filmes com melhor média de avaliação?**\n",
        "\n",
        "Primeiramente, vamos ter que agrupar as avaliações por filme (Movie_Id), e então tomar a média da coluna Rating, com isso vamos então fazer um join (merge do pandas é o equivalente ao join do SQL) para pegar o nome do filme, e por fim vamos contar os 5 que tem melhores médias. "
      ]
    },
    {
      "cell_type": "code",
      "metadata": {
        "colab": {
          "base_uri": "https://localhost:8080/"
        },
        "id": "K63VxpfSkj1j",
        "outputId": "9df94163-b8d2-42b2-d097-9772fbcd88af"
      },
      "source": [
        "# Pegamos os filmes com suas médicas de avaliação.\n",
        "rows = customers_rating.groupby(by=\"Movie_Id\").agg({\"Rating\": np.mean})\n",
        "\n",
        "# Right join com movies para pegar os nomes do filmes.\n",
        "rows = pd.merge(movies, rows, on='Movie_Id', how='right')\n",
        "\n",
        "# Estamos interessados apenas nos filmes com 5 maiores médias.\n",
        "rows = rows.nlargest(5, columns=['Rating'])\n",
        "\n",
        "print(\"2. Os nomes dos 5 filmes com melhor média de avaliação são os seguintes:\\n\")\n",
        "\n",
        "print(rows['Title'])\n"
      ],
      "execution_count": 121,
      "outputs": [
        {
          "output_type": "stream",
          "text": [
            "2. Os nomes dos 5 filmes com melhor média de avaliação são os seguintes:\n",
            "\n",
            "3455                                       Lost: Season 1\n",
            "3032     Ghost in the Shell: Stand Alone Complex: 2nd Gig\n",
            "2101                               The Simpsons: Season 6\n",
            "4237                                            Inu-Yasha\n",
            "12      Lord of the Rings: The Return of the King: Ext...\n",
            "Name: Title, dtype: object\n"
          ],
          "name": "stdout"
        }
      ]
    },
    {
      "cell_type": "markdown",
      "metadata": {
        "id": "TEECHyAJqy8c"
      },
      "source": [
        "**3. Quais os 5 anos com menos lançamentos de filmes?**\n",
        "\n",
        "Primeiro devemos agrupar a listagem de filmes por ano de lançamento, fazer a contagem respectiva de cada ano, e então ver quais ano tem maior soma de filmes."
      ]
    },
    {
      "cell_type": "code",
      "metadata": {
        "colab": {
          "base_uri": "https://localhost:8080/"
        },
        "id": "Uz1UJT4ikjHP",
        "outputId": "8f122032-d930-4c43-db33-18ec89c8180b"
      },
      "source": [
        "# Agrupamos por nome e pegamos a quantidade por ano. (veja que adicionamos uma nova coluna 'Count' com a contagem de títulos naquele ano)\n",
        "rows = movies.groupby(by=\"Year\").size().reset_index(name='Count')\n",
        "\n",
        "# Estamos interessados nos 5 anos com *menor* número de filmes\n",
        "rows = rows.nsmallest(5, columns=['Count'])\n",
        "\n",
        "print(\"3. Os 5 anos com menor número de lançamentos de filmes foram:\\n\")\n",
        "\n",
        "# Queremos apenas os anos\n",
        "print(rows['Year'])"
      ],
      "execution_count": 113,
      "outputs": [
        {
          "output_type": "stream",
          "text": [
            "3. Os 5 anos com menor número de lançamentos de filmes foram:\n",
            "\n",
            "0    1915.0\n",
            "2    1917.0\n",
            "6    1922.0\n",
            "1    1916.0\n",
            "3    1918.0\n",
            "Name: Year, dtype: float64\n"
          ],
          "name": "stdout"
        }
      ]
    },
    {
      "cell_type": "markdown",
      "metadata": {
        "id": "33YgL6S3Z4By"
      },
      "source": [
        "**4. Quantos filmes que possuem avaliação maior ou igual a 4.7, considerando apenas os filmes avaliados na última data de avaliação do dataset?**\n",
        "\n",
        "Precisamos primeiro filtrar os dados pela última data de avaliação, e depois selecionar, dentre esses, aqueles que tem média de avaliação maior ou igual a 4.7"
      ]
    },
    {
      "cell_type": "code",
      "metadata": {
        "colab": {
          "base_uri": "https://localhost:8080/"
        },
        "id": "cxsZwLw3s0RM",
        "outputId": "b0acd11a-66f7-4cee-d11d-f5ec6d9df46e"
      },
      "source": [
        "# Última data de avaliação no dataset.\n",
        "last_date = customers_rating['Date'].max()\n",
        "\n",
        "# Entradas da última data de avaliação do dataset.\n",
        "rows = customers_rating[customers_rating['Date'] == last_date]\n",
        "\n",
        "# Toma a média de todas as avaliações, agrupando por ID do filme.\n",
        "rows = rows.groupby(by=\"Movie_Id\").agg({\"Rating\": np.mean})\n",
        "\n",
        "# Seleciona apenas entradas com médica de avaliações maior ou igual a 4.7\n",
        "rows = rows[rows['Rating'] >= 4.7]\n",
        "\n",
        "# Printa quantas entradas temos em rows, ou seja, quantos filmes tiveram avaliação maior ou igual a 4.7 no último dia de avaliação.\n",
        "print(\"4. %d filmes tiveram avaliação maior ou igual a 4.7 no dia %s (último dia de avaliações no dataset)\" % (rows.count(), last_date))"
      ],
      "execution_count": 114,
      "outputs": [
        {
          "output_type": "stream",
          "text": [
            "4. 195 filmes tiveram avaliação maior ou igual a 4.7 no dia 2005-12-31 (último dia de avaliações no dataset)\n"
          ],
          "name": "stdout"
        }
      ]
    },
    {
      "cell_type": "markdown",
      "metadata": {
        "id": "5mVXRrEvvJ4h"
      },
      "source": [
        "**5. Dos filmes encontrados na questão anterior, quais são os 10 filmes com as piores notas e quais as notas?**\n",
        "\n",
        "Os filmes da questão anterior ainda estão na variável rows, então podemos simplesmente partir daí. Mais uma vez vamos ter que fazer um join com movies, para obter quais os filmes correspondentes aos Movie_Id encontrados na questão anterior."
      ]
    },
    {
      "cell_type": "code",
      "metadata": {
        "colab": {
          "base_uri": "https://localhost:8080/"
        },
        "id": "V-bEnTmMiV1z",
        "outputId": "40a51afc-7735-41bb-f4ba-465815cc9dc6"
      },
      "source": [
        "# Left join com mocies para pegar o nome dos títulos.\n",
        "rows = pd.merge(movies, rows, on='Movie_Id', how='right')\n",
        "\n",
        "# Selecionamos a 10 piores médias de avaliação dentre os filmes da questão anterior.\n",
        "rows = rows.nsmallest(10, columns=['Rating'])\n",
        "\n",
        "print(\"5. Dos filmes encontrados na questão anterior, os 10 filmes com piores médias (e suas respectivas médias) são:\\n\")\n",
        "\n",
        "# Só queremos o título e a média de avaliação (nota)\n",
        "print(rows[['Title', 'Rating']])"
      ],
      "execution_count": 115,
      "outputs": [
        {
          "output_type": "stream",
          "text": [
            "5. Dos filmes encontrados na questão anterior, os 10 filmes com piores médias (e suas respectivas médias) são:\n",
            "\n",
            "                               Title    Rating\n",
            "150                    Spirited Away  4.714286\n",
            "59        The Twilight Zone: Vol. 15  4.750000\n",
            "89       An Evening With Kevin Smith  4.750000\n",
            "94           Gilmore Girls: Season 3  4.750000\n",
            "102       The Twilight Zone: Vol. 41  4.750000\n",
            "126    Absolutely Fabulous: Series 2  4.750000\n",
            "161                    Pete's Dragon  4.750000\n",
            "192  SpongeBob SquarePants: Season 3  4.750000\n",
            "33              In the Mood for Love  4.800000\n",
            "187   Curb Your Enthusiasm: Season 3  4.800000\n"
          ],
          "name": "stdout"
        }
      ]
    },
    {
      "cell_type": "markdown",
      "metadata": {
        "id": "TcHONxe50VwZ"
      },
      "source": [
        "**6.  Quais os id's dos 5 customer que mais avaliaram filmes e quantas avaliações cada um fez?**\n",
        "\n",
        "Precisamos agrupar as avaliações por Cust_Id, e contar quantas avaliações temos por Cust_Id, de maneira semelhante ao que fizemos na questão 3."
      ]
    },
    {
      "cell_type": "code",
      "metadata": {
        "colab": {
          "base_uri": "https://localhost:8080/"
        },
        "id": "GqcoeUXW0WCs",
        "outputId": "205b11aa-f489-4095-e00d-fa2f05a821be"
      },
      "source": [
        "# De maneira semelhante a questão 3, agrupamos as entradas de customers_rating por Cust_Id, e fazemos uma contagem adicionando essa contagem em uma coluna 'N_Ratings' \n",
        "rows = customers_rating.groupby(by=\"Cust_Id\").size().reset_index(name='N_Ratings')\n",
        "\n",
        "# Queremos encontrar os consumidores que mais avaliaram, ou seja, que tiveram maior soma no comando anterior. (coluna 'N_Ratings')\n",
        "rows = rows.nlargest(5, columns=['N_Ratings'])\n",
        "\n",
        "print(\"6. Os ids dos 5 customers que mais avaliaram filmes (com a respectiva quantidade de avaliações) são:\\n\")\n",
        "\n",
        "print(rows)"
      ],
      "execution_count": 116,
      "outputs": [
        {
          "output_type": "stream",
          "text": [
            "6. Os ids dos 5 customers que mais avaliaram filmes (com a respectiva quantidade de avaliações) são:\n",
            "\n",
            "        Cust_Id  N_Ratings\n",
            "54307    305344       4467\n",
            "69083    387418       4422\n",
            "433441  2439493       4195\n",
            "295928  1664010       4019\n",
            "376450  2118461       3769\n"
          ],
          "name": "stdout"
        }
      ]
    }
  ]
}